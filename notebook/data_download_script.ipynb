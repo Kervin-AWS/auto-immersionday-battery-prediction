{
 "cells": [
  {
   "cell_type": "markdown",
   "metadata": {
    "pycharm": {
     "name": "#%% md\n"
    }
   },
   "source": [
    "## 数据下载脚本\n",
    "### 将从S3中下载数据\n"
   ]
  },
  {
   "cell_type": "code",
   "execution_count": null,
   "metadata": {
    "pycharm": {
     "name": "#%%\n"
    }
   },
   "outputs": [],
   "source": [
    "import os\n",
    "import boto3\n",
    "import time\n",
    "!pip config set global.index-url https://pypi.tuna.tsinghua.edu.cn/simple\n",
    "!pip install numpy==1.16.0\n",
    "!pip install tensorflow==2.0.0-beta"
   ]
  },
  {
   "cell_type": "markdown",
   "metadata": {
    "pycharm": {
     "name": "#%% md\n"
    }
   },
   "source": [
    "#### 创建data目录"
   ]
  },
  {
   "cell_type": "code",
   "execution_count": null,
   "metadata": {
    "pycharm": {
     "name": "#%%\n"
    }
   },
   "outputs": [],
   "source": [
    "path = 'data/'\n",
    "isExists=os.path.exists(path)\n",
    "if not isExists:\n",
    "    os.makedirs(path)\n",
    "\n",
    "    print('Create data/ complete!')\n",
    "else:\n",
    "    print('data/ is already exists!')"
   ]
  },
  {
   "cell_type": "markdown",
   "metadata": {
    "pycharm": {
     "name": "#%% md\n"
    }
   },
   "source": [
    "#### 下载三个子数据集"
   ]
  },
  {
   "cell_type": "code",
   "execution_count": null,
   "metadata": {
    "jupyter": {
     "outputs_hidden": false
    },
    "pycharm": {
     "name": "#%%\n"
    }
   },
   "outputs": [],
   "source": [
    "start = time.time()\n",
    "print('Start download dataset \\'batch1.pkl\\ from S3', it may take 40 secs')\n",
    "bucket_name = 'kervin-test-s3'\n",
    "file_name = 'batch1.pkl'\n",
    "local_file_name = 'data/batch1.pkl'\n",
    "s3 = boto3.resource('s3')\n",
    "s3.Object(bucket_name, file_name).download_file(local_file_name)\n",
    "end = time.time()\n",
    "\n",
    "print('Finish down load dataset \\'batch1.pkl\\ from S3',  cost %.2f secs' %(end - start))\n",
    "\n",
    "start = time.time()\n",
    "print('Start download dataset \\'batch2.pkl\\ from S3', it may take 40 secs')\n",
    "bucket_name = 'kervin-test-s3'\n",
    "file_name = 'batch2.pkl'\n",
    "local_file_name = 'data/batch2.pkl'\n",
    "s3 = boto3.resource('s3')\n",
    "s3.Object(bucket_name, file_name).download_file(local_file_name)\n",
    "end = time.time()\n",
    "\n",
    "print('Finish down load dataset \\'batch2.pkl\\ from S3',  cost %.2f secs' %(end - start))\n",
    "\n",
    "start = time.time()\n",
    "print('Start download dataset \\'batch3.pkl\\ from S3', it may take 40 secs')\n",
    "bucket_name = 'kervin-test-s3'\n",
    "file_name = 'batch3.pkl'\n",
    "local_file_name = 'data/batch3.pkl'\n",
    "s3 = boto3.resource('s3')\n",
    "s3.Object(bucket_name, file_name).download_file(local_file_name)\n",
    "end = time.time()\n",
    "\n",
    "print('Finish down load dataset \\'batch3.pkl\\ from S3',  cost %.2f secs' %(end - start))\n",
    "print('Down loading is complete!')"
   ]
  },
  {
   "cell_type": "code",
   "execution_count": null,
   "metadata": {},
   "outputs": [],
   "source": []
  }
 ],
 "metadata": {
  "kernelspec": {
   "display_name": "Python 3",
   "language": "python",
   "name": "python3"
  },
  "language_info": {
   "codemirror_mode": {
    "name": "ipython",
    "version": 3
   },
   "file_extension": ".py",
   "mimetype": "text/x-python",
   "name": "python",
   "nbconvert_exporter": "python",
   "pygments_lexer": "ipython3",
   "version": "3.7.7"
  }
 },
 "nbformat": 4,
 "nbformat_minor": 4
}
