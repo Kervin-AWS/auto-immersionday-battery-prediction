{
 "cells": [
  {
   "cell_type": "markdown",
   "metadata": {
    "pycharm": {
     "name": "#%% md\n"
    }
   },
   "source": [
    "## 数据下载脚本\n",
    "### 将从S3中下载数据\n"
   ]
  },
  {
   "cell_type": "code",
   "execution_count": 3,
   "metadata": {
    "pycharm": {
     "name": "#%%\n"
    }
   },
   "outputs": [],
   "source": [
    "import os\n",
    "import boto3\n",
    "import time"
   ]
  },
  {
   "cell_type": "code",
   "execution_count": 2,
   "metadata": {
    "pycharm": {
     "name": "#%%\n"
    }
   },
   "outputs": [
    {
     "name": "stdout",
     "output_type": "stream",
     "text": [
      "Collecting numpy==1.16.0\n",
      "\u001b[?25l  Downloading https://files.pythonhosted.org/packages/7b/74/54c5f9bb9bd4dae27a61ec1b39076a39d359b3fb7ba15da79ef23858a9d8/numpy-1.16.0-cp36-cp36m-manylinux1_x86_64.whl (17.3MB)\n",
      "\u001b[K     |████████████████████████████████| 17.3MB 11.8MB/s eta 0:00:01\n",
      "\u001b[?25hInstalling collected packages: numpy\n",
      "  Found existing installation: numpy 1.16.4\n",
      "    Uninstalling numpy-1.16.4:\n",
      "      Successfully uninstalled numpy-1.16.4\n",
      "Successfully installed numpy-1.16.0\n",
      "\u001b[33mWARNING: You are using pip version 19.3.1; however, version 20.1.1 is available.\n",
      "You should consider upgrading via the 'pip install --upgrade pip' command.\u001b[0m\n",
      "Collecting tensorflow==2.0.0-beta\n",
      "\u001b[?25l  Downloading https://files.pythonhosted.org/packages/6c/19/0d0c7f240db7bcd6b83783b9a89a67f38584d100e23ad5ae93114be92232/tensorflow-2.0.0b0-cp36-cp36m-manylinux1_x86_64.whl (87.9MB)\n",
      "\u001b[K     |████████████████████████████████| 87.9MB 106kB/s  eta 0:00:01     |██████████████████              | 49.2MB 12.0MB/s eta 0:00:04\n",
      "\u001b[?25hRequirement already satisfied: absl-py>=0.7.0 in /home/ec2-user/anaconda3/envs/tensorflow_p36/lib/python3.6/site-packages (from tensorflow==2.0.0-beta) (0.9.0)\n",
      "Collecting tb-nightly<1.14.0a20190604,>=1.14.0a20190603\n",
      "\u001b[?25l  Downloading https://files.pythonhosted.org/packages/a4/96/571b875cd81dda9d5dfa1422a4f9d749e67c0a8d4f4f0b33a4e5f5f35e27/tb_nightly-1.14.0a20190603-py3-none-any.whl (3.1MB)\n",
      "\u001b[K     |████████████████████████████████| 3.1MB 52.4MB/s eta 0:00:01\n",
      "\u001b[?25hRequirement already satisfied: grpcio>=1.8.6 in /home/ec2-user/anaconda3/envs/tensorflow_p36/lib/python3.6/site-packages (from tensorflow==2.0.0-beta) (1.10.1)\n",
      "Requirement already satisfied: protobuf>=3.6.1 in /home/ec2-user/anaconda3/envs/tensorflow_p36/lib/python3.6/site-packages (from tensorflow==2.0.0-beta) (3.8.0)\n",
      "Requirement already satisfied: keras-preprocessing>=1.0.5 in /home/ec2-user/anaconda3/envs/tensorflow_p36/lib/python3.6/site-packages (from tensorflow==2.0.0-beta) (1.1.0)\n",
      "Requirement already satisfied: termcolor>=1.1.0 in /home/ec2-user/anaconda3/envs/tensorflow_p36/lib/python3.6/site-packages (from tensorflow==2.0.0-beta) (1.1.0)\n",
      "Requirement already satisfied: wheel>=0.26 in /home/ec2-user/anaconda3/envs/tensorflow_p36/lib/python3.6/site-packages (from tensorflow==2.0.0-beta) (0.31.1)\n",
      "Collecting tf-estimator-nightly<1.14.0.dev2019060502,>=1.14.0.dev2019060501\n",
      "\u001b[?25l  Downloading https://files.pythonhosted.org/packages/32/dd/99c47dd007dcf10d63fd895611b063732646f23059c618a373e85019eb0e/tf_estimator_nightly-1.14.0.dev2019060501-py2.py3-none-any.whl (496kB)\n",
      "\u001b[K     |████████████████████████████████| 501kB 42.5MB/s eta 0:00:01\n",
      "\u001b[?25hRequirement already satisfied: astor>=0.6.0 in /home/ec2-user/anaconda3/envs/tensorflow_p36/lib/python3.6/site-packages (from tensorflow==2.0.0-beta) (0.8.1)\n",
      "Requirement already satisfied: six>=1.10.0 in /home/ec2-user/anaconda3/envs/tensorflow_p36/lib/python3.6/site-packages (from tensorflow==2.0.0-beta) (1.11.0)\n",
      "Requirement already satisfied: gast>=0.2.0 in /home/ec2-user/anaconda3/envs/tensorflow_p36/lib/python3.6/site-packages (from tensorflow==2.0.0-beta) (0.2.2)\n",
      "Requirement already satisfied: numpy<2.0,>=1.14.5 in /home/ec2-user/anaconda3/envs/tensorflow_p36/lib/python3.6/site-packages (from tensorflow==2.0.0-beta) (1.16.0)\n",
      "Requirement already satisfied: wrapt>=1.11.1 in /home/ec2-user/anaconda3/envs/tensorflow_p36/lib/python3.6/site-packages (from tensorflow==2.0.0-beta) (1.11.2)\n",
      "Requirement already satisfied: google-pasta>=0.1.6 in /home/ec2-user/anaconda3/envs/tensorflow_p36/lib/python3.6/site-packages (from tensorflow==2.0.0-beta) (0.1.8)\n",
      "Requirement already satisfied: keras-applications>=1.0.6 in /home/ec2-user/anaconda3/envs/tensorflow_p36/lib/python3.6/site-packages (from tensorflow==2.0.0-beta) (1.0.8)\n",
      "Requirement already satisfied: werkzeug>=0.11.15 in /home/ec2-user/anaconda3/envs/tensorflow_p36/lib/python3.6/site-packages (from tb-nightly<1.14.0a20190604,>=1.14.0a20190603->tensorflow==2.0.0-beta) (0.14.1)\n",
      "Requirement already satisfied: setuptools>=41.0.0 in /home/ec2-user/anaconda3/envs/tensorflow_p36/lib/python3.6/site-packages (from tb-nightly<1.14.0a20190604,>=1.14.0a20190603->tensorflow==2.0.0-beta) (45.2.0)\n",
      "Requirement already satisfied: markdown>=2.6.8 in /home/ec2-user/anaconda3/envs/tensorflow_p36/lib/python3.6/site-packages (from tb-nightly<1.14.0a20190604,>=1.14.0a20190603->tensorflow==2.0.0-beta) (3.2.1)\n",
      "Requirement already satisfied: h5py in /home/ec2-user/anaconda3/envs/tensorflow_p36/lib/python3.6/site-packages (from keras-applications>=1.0.6->tensorflow==2.0.0-beta) (2.8.0)\n",
      "\u001b[31mERROR: tensorflow-serving-api 1.15.0 has requirement tensorflow~=1.15.0, but you'll have tensorflow 2.0.0b0 which is incompatible.\u001b[0m\n",
      "Installing collected packages: tb-nightly, tf-estimator-nightly, tensorflow\n",
      "  Found existing installation: tensorflow 1.15.2\n",
      "    Uninstalling tensorflow-1.15.2:\n",
      "      Successfully uninstalled tensorflow-1.15.2\n",
      "Successfully installed tb-nightly-1.14.0a20190603 tensorflow-2.0.0b0 tf-estimator-nightly-1.14.0.dev2019060501\n",
      "\u001b[33mWARNING: You are using pip version 19.3.1; however, version 20.1.1 is available.\n",
      "You should consider upgrading via the 'pip install --upgrade pip' command.\u001b[0m\n"
     ]
    }
   ],
   "source": [
    "!pip install numpy==1.16.0\n",
    "!pip install tensorflow==2.0.0-beta"
   ]
  },
  {
   "cell_type": "markdown",
   "metadata": {
    "pycharm": {
     "name": "#%% md\n"
    }
   },
   "source": [
    "#### 创建data目录"
   ]
  },
  {
   "cell_type": "code",
   "execution_count": 4,
   "metadata": {
    "pycharm": {
     "name": "#%%\n"
    }
   },
   "outputs": [
    {
     "name": "stdout",
     "output_type": "stream",
     "text": [
      "Create data/ complete!\n"
     ]
    }
   ],
   "source": [
    "path = 'data/'\n",
    "isExists=os.path.exists(path)\n",
    "if not isExists:\n",
    "    os.makedirs(path)\n",
    "\n",
    "    print('Create data/ complete!')\n",
    "else:\n",
    "    print('data/ is already exists!')"
   ]
  },
  {
   "cell_type": "markdown",
   "metadata": {
    "pycharm": {
     "name": "#%% md\n"
    }
   },
   "source": [
    "#### 下载三个子数据集"
   ]
  },
  {
   "cell_type": "code",
   "execution_count": 5,
   "metadata": {
    "collapsed": false,
    "jupyter": {
     "outputs_hidden": false
    },
    "pycharm": {
     "name": "#%%\n"
    }
   },
   "outputs": [
    {
     "name": "stdout",
     "output_type": "stream",
     "text": [
      "Start download dataset 'batch1.pkl', it may take 40 secs\n",
      "Finish down load dataset 'batch1.pkl',  cost 24.66 secs\n",
      "Start download dataset 'batch2.pkl', it may take 40 secs\n",
      "Finish down load dataset 'batch2.pkl',  cost 18.29 secs\n",
      "Start download dataset 'batch3.pkl', it may take 40 secs\n",
      "Finish down load dataset 'batch3.pkl',  cost 27.03 secs\n",
      "Down loading is complete!\n"
     ]
    }
   ],
   "source": [
    "start = time.time()\n",
    "print('Start download dataset \\'batch1.pkl\\', it may take 40 secs')\n",
    "bucket_name = 'kervin-test-s3'\n",
    "file_name = 'batch1.pkl'\n",
    "local_file_name = 'data/batch1.pkl'\n",
    "s3 = boto3.resource('s3')\n",
    "s3.Object(bucket_name, file_name).download_file(local_file_name)\n",
    "end = time.time()\n",
    "\n",
    "print('Finish down load dataset \\'batch1.pkl\\',  cost %.2f secs' %(end - start))\n",
    "\n",
    "start = time.time()\n",
    "print('Start download dataset \\'batch2.pkl\\', it may take 40 secs')\n",
    "bucket_name = 'kervin-test-s3'\n",
    "file_name = 'batch2.pkl'\n",
    "local_file_name = 'data/batch2.pkl'\n",
    "s3 = boto3.resource('s3')\n",
    "s3.Object(bucket_name, file_name).download_file(local_file_name)\n",
    "end = time.time()\n",
    "\n",
    "print('Finish down load dataset \\'batch2.pkl\\',  cost %.2f secs' %(end - start))\n",
    "\n",
    "start = time.time()\n",
    "print('Start download dataset \\'batch3.pkl\\', it may take 40 secs')\n",
    "bucket_name = 'kervin-test-s3'\n",
    "file_name = 'batch3.pkl'\n",
    "local_file_name = 'data/batch3.pkl'\n",
    "s3 = boto3.resource('s3')\n",
    "s3.Object(bucket_name, file_name).download_file(local_file_name)\n",
    "end = time.time()\n",
    "\n",
    "print('Finish down load dataset \\'batch3.pkl\\',  cost %.2f secs' %(end - start))\n",
    "print('Down loading is complete!')"
   ]
  },
  {
   "cell_type": "code",
   "execution_count": null,
   "metadata": {},
   "outputs": [],
   "source": []
  }
 ],
 "metadata": {
  "kernelspec": {
   "display_name": "conda_tensorflow_p36",
   "language": "python",
   "name": "conda_tensorflow_p36"
  },
  "language_info": {
   "codemirror_mode": {
    "name": "ipython",
    "version": 3
   },
   "file_extension": ".py",
   "mimetype": "text/x-python",
   "name": "python",
   "nbconvert_exporter": "python",
   "pygments_lexer": "ipython3",
   "version": "3.6.6"
  }
 },
 "nbformat": 4,
 "nbformat_minor": 4
}
