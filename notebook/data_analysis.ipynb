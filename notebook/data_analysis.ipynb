{
 "cells": [
  {
   "cell_type": "markdown",
   "metadata": {
    "pycharm": {
     "name": "#%% md\n"
    }
   },
   "source": [
    "# 数据概览与分析\n",
    "本代码文档完成数据导入以及数据分析.\n"
   ]
  },
  {
   "cell_type": "code",
   "execution_count": null,
   "metadata": {
    "pycharm": {
     "name": "#%%\n"
    }
   },
   "outputs": [],
   "source": [
    "import numpy as np\n",
    "import pandas as pd\n",
    "import matplotlib.pyplot as plt\n",
    "from trainer.rebuilding_features import load_batches_to_dict\n",
    "from trainer.data_preprocessing import preprocess_batch, preprocess_cycle#, plot_preprocessing_results\n",
    "from trainer.helpers import print_dict_keys"
   ]
  },
  {
   "cell_type": "markdown",
   "metadata": {},
   "source": [
    "## 数据预处理\n",
    "\n",
    "### 最终数据结构\n",
    "\n",
    "#### Batch\n",
    "- [\"b1c1\"]\n",
    "\n",
    "\n",
    "    - [\"cycle_life\"]\n",
    "\n",
    "    - [\"summary\"]\n",
    "        - [\"IR\"]\n",
    "        - [\"QD\"]\n",
    "        - [\"remaining_cycle_life\"]\n",
    "        - [\"high_current_discharging_time\"]\n",
    "\n",
    "    - [\"cycles\"]\n",
    "        - [\"1\"]\n",
    "            -[\"Qd_resample\"]\n",
    "            -[\"T_resample\"]\n",
    "            -[\"V_resample\"]\n",
    "\n",
    "            Only if specified in preprocessing function with \"return_original_data\":\n",
    "            -[\"Qd_original_data\"]\n",
    "            -[\"T_original_data\"]\n",
    "            -[\"V_original_data\"]\n",
    "            -[\"t_original_data\"]\n",
    "\n",
    "        - [\"2\"] ...\n",
    "        - [\"3\"] ...\n",
    "\n",
    "\n",
    "- [\"b1c2\"] ..."
   ]
  },
  {
   "cell_type": "markdown",
   "metadata": {
    "pycharm": {
     "name": "#%% md\n"
    }
   },
   "source": [
    "### 导入待分析数据"
   ]
  },
  {
   "cell_type": "code",
   "execution_count": null,
   "metadata": {
    "pycharm": {
     "name": "#%%\n"
    }
   },
   "outputs": [],
   "source": [
    "print('Start import analysis data, it may take 35 secs')\n",
    "batch1 = load_batches_to_dict(amount_to_load=1)"
   ]
  },
  {
   "cell_type": "markdown",
   "metadata": {},
   "source": [
    "### 选取一组数据，进行数据探查"
   ]
  },
  {
   "cell_type": "code",
   "execution_count": null,
   "metadata": {
    "pycharm": {
     "name": "#%%\n"
    }
   },
   "outputs": [],
   "source": [
    "cell1 = batch1[\"b1c2\"]\n",
    "cycle = cell1[\"cycles\"][\"2\"]\n",
    "\n",
    "I = cycle[\"I\"]\n",
    "Qd = cycle[\"Qd\"]\n",
    "T = cycle[\"T\"]\n",
    "V = cycle[\"V\"]\n",
    "t = cycle[\"t\"]\n",
    "print(Qd)\n",
    "print(Qd.size)"
   ]
  },
  {
   "cell_type": "code",
   "execution_count": null,
   "metadata": {
    "pycharm": {
     "name": "#%%\n"
    }
   },
   "outputs": [],
   "source": [
    "# Plots over Voltage\n",
    "\n",
    "fig, ax = plt.subplots(nrows=2, ncols=2, figsize=(15, 10))\n",
    "ax[0][0].plot(V, I)\n",
    "ax[0][0].set_ylabel(\"I\")\n",
    "ax[0][0].set_xlabel(\"V\")\n",
    "\n",
    "ax[0][1].plot(V, Qd)\n",
    "ax[0][1].set_ylabel(\"Qd\")\n",
    "ax[0][1].set_xlabel(\"V\")\n",
    "\n",
    "ax[1][0].plot(V, T)\n",
    "ax[1][0].set_ylabel(\"T\")\n",
    "ax[1][0].set_xlabel(\"V\")\n",
    "\n",
    "ax[1][1].plot(V, V)\n",
    "ax[1][1].set_ylabel(\"V\")\n",
    "ax[1][1].set_xlabel(\"V\")"
   ]
  }
 ],
 "metadata": {
  "kernelspec": {
   "display_name": "Python 3",
   "language": "python",
   "name": "python3"
  },
  "language_info": {
   "codemirror_mode": {
    "name": "ipython",
    "version": 3
   },
   "file_extension": ".py",
   "mimetype": "text/x-python",
   "name": "python",
   "nbconvert_exporter": "python",
   "pygments_lexer": "ipython3",
   "version": "3.7.7"
  }
 },
 "nbformat": 4,
 "nbformat_minor": 4
}